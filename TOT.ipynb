{
 "cells": [
  {
   "cell_type": "code",
   "execution_count": 1,
   "metadata": {},
   "outputs": [],
   "source": [
    "import os\n",
    "from langchain_community.chat_models import ChatOpenAI\n",
    "from langchain.prompts import PromptTemplate\n",
    "from langchain.prompts import ChatPromptTemplate\n",
    "from langchain_experimental.smart_llm import SmartLLMChain"
   ]
  },
  {
   "cell_type": "code",
   "execution_count": 6,
   "metadata": {},
   "outputs": [],
   "source": [
    "op=open(\"OPENAIAPIKEY.txt\",\"r\")\n",
    "OpenAPI_KEY=op.readline()\n",
    "op.close()\n",
    "os.environ['OPENAI_API_KEY']=OpenAPI_KEY"
   ]
  },
  {
   "cell_type": "code",
   "execution_count": 3,
   "metadata": {},
   "outputs": [],
   "source": [
    "hard_question=\"I have a 12 liter jug ,a 4 liter jug and a 3 liter jug. I want to measure 6 liters. How do I do it?\""
   ]
  },
  {
   "cell_type": "code",
   "execution_count": 4,
   "metadata": {},
   "outputs": [],
   "source": [
    "prompt = PromptTemplate.from_template(hard_question)"
   ]
  },
  {
   "cell_type": "code",
   "execution_count": 7,
   "metadata": {},
   "outputs": [],
   "source": [
    "llm = ChatOpenAI(temperature=0)"
   ]
  },
  {
   "cell_type": "code",
   "execution_count": 8,
   "metadata": {},
   "outputs": [],
   "source": [
    "chain = SmartLLMChain(llm=llm, prompt=prompt, n_ideas=3, verbose=True)"
   ]
  },
  {
   "cell_type": "code",
   "execution_count": 9,
   "metadata": {},
   "outputs": [
    {
     "name": "stderr",
     "output_type": "stream",
     "text": [
      "c:\\Users\\Jeevan Reddy\\Anaconda\\Lib\\site-packages\\langchain_core\\_api\\deprecation.py:139: LangChainDeprecationWarning: The method `Chain.run` was deprecated in langchain 0.1.0 and will be removed in 0.3.0. Use invoke instead.\n",
      "  warn_deprecated(\n"
     ]
    },
    {
     "name": "stdout",
     "output_type": "stream",
     "text": [
      "\n",
      "\n",
      "\u001b[1m> Entering new SmartLLMChain chain...\u001b[0m\n",
      "Prompt after formatting:\n",
      "\u001b[32;1m\u001b[1;3mI have a 12 liter jug ,a 4 liter jug and a 3 liter jug. I want to measure 6 liters. How do I do it?\u001b[0m\n",
      "Idea 1:\n",
      "\u001b[36;1m\u001b[1;3m1. Fill the 4 liter jug with water.\n",
      "2. Pour the water from the 4 liter jug into the 12 liter jug.\n",
      "3. Fill the 4 liter jug again with water.\n",
      "4. Pour the water from the 4 liter jug into the 12 liter jug until it is full (this will leave 2 liters in the 4 liter jug).\n",
      "5. Empty the 12 liter jug.\n",
      "6. Pour the remaining 2 liters from the 4 liter jug into the 12 liter jug.\n",
      "7. Fill the 4 liter jug again with water.\n",
      "8. Pour the water from the 4 liter jug into the 12 liter jug until it is full (this will leave 6 liters in the 12 liter jug).\n",
      "\n",
      "You have now measured 6 liters using the 12 liter, 4 liter, and 3 liter jugs.\u001b[0m\n",
      "Idea 2:\n",
      "\u001b[36;1m\u001b[1;3m1. Fill the 4 liter jug completely.\n",
      "2. Pour the water from the 4 liter jug into the 12 liter jug.\n",
      "3. Fill the 4 liter jug again.\n",
      "4. Pour the water from the 4 liter jug into the 12 liter jug until the 12 liter jug is full (which will leave 2 liters in the 4 liter jug).\n",
      "5. Empty the 12 liter jug.\n",
      "6. Pour the remaining 2 liters from the 4 liter jug into the 12 liter jug.\n",
      "7. Fill the 4 liter jug one more time.\n",
      "8. Pour the water from the 4 liter jug into the 12 liter jug until the 12 liter jug is full (which will leave 6 liters in the 4 liter jug).\n",
      "\n",
      "Now you have successfully measured 6 liters using the 12 liter, 4 liter, and 3 liter jugs.\u001b[0m\n",
      "Idea 3:\n",
      "\u001b[36;1m\u001b[1;3m1. Fill the 4 liter jug with water.\n",
      "2. Pour the water from the 4 liter jug into the 12 liter jug.\n",
      "3. Fill the 4 liter jug again with water.\n",
      "4. Pour the water from the 4 liter jug into the 12 liter jug until it is full (this will leave 2 liters in the 4 liter jug).\n",
      "5. Empty the 12 liter jug.\n",
      "6. Pour the remaining 2 liters from the 4 liter jug into the 12 liter jug.\n",
      "7. Fill the 4 liter jug again with water.\n",
      "8. Pour the water from the 4 liter jug into the 12 liter jug until it is full (this will leave 6 liters in the 12 liter jug).\n",
      "\n",
      "Therefore, you have successfully measured 6 liters using the 12 liter, 4 liter, and 3 liter jugs.\u001b[0m\n",
      "Critique:\n",
      "\u001b[33;1m\u001b[1;3mIdea 1 Flaws:\n",
      "1. In step 4, pouring the water from the 4 liter jug into the 12 liter jug until it is full will not leave 2 liters in the 4 liter jug. It will leave 8 liters in the 12 liter jug, not 2 liters in the 4 liter jug.\n",
      "2. The subsequent steps are based on this incorrect measurement, leading to an inaccurate final result.\n",
      "\n",
      "Idea 2 Flaws:\n",
      "1. In step 8, pouring the water from the 4 liter jug into the 12 liter jug until it is full will not leave 6 liters in the 4 liter jug. It will leave 10 liters in the 12 liter jug, not 6 liters in the 4 liter jug.\n",
      "2. The subsequent steps are based on this incorrect measurement, leading to an inaccurate final result.\n",
      "\n",
      "Idea 3 Flaws:\n",
      "1. The flaw in this idea is similar to Idea 1. In step 4, pouring the water from the 4 liter jug into the 12 liter jug until it is full will not leave 2 liters in the 4 liter jug. It will leave 8 liters in the 12 liter jug, not 2 liters in the 4 liter jug.\n",
      "2. The subsequent steps are based on this incorrect measurement, leading to an inaccurate final result.\n",
      "\n",
      "Overall, all three ideas have a common flaw in the measurement of the water transferred between the jugs, leading to incorrect calculations and final results.\u001b[0m\n",
      "Resolution:\n",
      "\u001b[32;1m\u001b[1;3mIdea 3: \n",
      "1. Fill the 4 liter jug with water.\n",
      "2. Pour the water from the 4 liter jug into the 12 liter jug.\n",
      "3. Fill the 4 liter jug again with water.\n",
      "4. Pour the water from the 4 liter jug into the 12 liter jug until it is full (this will leave 8 liters in the 12 liter jug).\n",
      "5. Empty the 12 liter jug.\n",
      "6. Pour the remaining 4 liters from the 4 liter jug into the 12 liter jug.\n",
      "7. Fill the 4 liter jug again with water.\n",
      "8. Pour the water from the 4 liter jug into the 12 liter jug until it is full (this will leave 6 liters in the 12 liter jug).\n",
      "\n",
      "Therefore, you have successfully measured 6 liters using the 12 liter, 4 liter, and 3 liter jugs.\u001b[0m\n",
      "\n",
      "\u001b[1m> Finished chain.\u001b[0m\n"
     ]
    },
    {
     "data": {
      "text/plain": [
       "'Idea 3: \\n1. Fill the 4 liter jug with water.\\n2. Pour the water from the 4 liter jug into the 12 liter jug.\\n3. Fill the 4 liter jug again with water.\\n4. Pour the water from the 4 liter jug into the 12 liter jug until it is full (this will leave 8 liters in the 12 liter jug).\\n5. Empty the 12 liter jug.\\n6. Pour the remaining 4 liters from the 4 liter jug into the 12 liter jug.\\n7. Fill the 4 liter jug again with water.\\n8. Pour the water from the 4 liter jug into the 12 liter jug until it is full (this will leave 6 liters in the 12 liter jug).\\n\\nTherefore, you have successfully measured 6 liters using the 12 liter, 4 liter, and 3 liter jugs.'"
      ]
     },
     "execution_count": 9,
     "metadata": {},
     "output_type": "execute_result"
    }
   ],
   "source": [
    "chain.run({})"
   ]
  },
  {
   "cell_type": "code",
   "execution_count": null,
   "metadata": {},
   "outputs": [],
   "source": []
  }
 ],
 "metadata": {
  "kernelspec": {
   "display_name": "Python 3",
   "language": "python",
   "name": "python3"
  },
  "language_info": {
   "codemirror_mode": {
    "name": "ipython",
    "version": 3
   },
   "file_extension": ".py",
   "mimetype": "text/x-python",
   "name": "python",
   "nbconvert_exporter": "python",
   "pygments_lexer": "ipython3",
   "version": "3.11.5"
  }
 },
 "nbformat": 4,
 "nbformat_minor": 2
}
